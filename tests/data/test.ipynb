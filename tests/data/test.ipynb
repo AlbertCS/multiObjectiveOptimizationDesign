{
 "cells": [
  {
   "cell_type": "code",
   "execution_count": 3,
   "metadata": {},
   "outputs": [],
   "source": [
    "import pandas as pd\n",
    "import numpy as np\n",
    "import pickle\n",
    "from mood.base.sequence import Sequence\n"
   ]
  },
  {
   "cell_type": "code",
   "execution_count": 5,
   "metadata": {},
   "outputs": [],
   "source": [
    "native = Sequence(sequence=\"HNPVVMVHGMGGASYNFASIKSYLV\", chain=\"A\", index=0, parent=False, child=False, active=True),\n",
    "\n",
    "sequences = {\n",
    "    \"A\":\n",
    "    {\n",
    "        \"HNPVVMVHGMGGASYNFASIKSYLV\": Sequence(sequence=\"HNPVVMVHGMGGASYNFASIKSYLV\", chain=\"A\", index=0, parent=False, child=False, active=True), \n",
    "        \"HNPVVMVHGMGGASYNFASIKSLLV\": Sequence(sequence=\"HNPVVMVHGMGGASYNFASIKSLLV\", chain=\"A\", index=1, parent=False, child=False, active=True, native=native),\n",
    "        \"HNPVVMVHGMGGASYNFASIKSSLV\": Sequence(sequence=\"HNPVVMVHGMGGASYNFASIKSSLV\", chain=\"A\", index=2, parent=False, child=False, active=True, native=native),\n",
    "        \"HNPVVMVHGMGGASYNFASIKSVLV\": Sequence(sequence=\"HNPVVMVHGMGGASYNFASIKSVLV\", chain=\"A\", index=3, parent=False, child=False, active=True, native=native),\n",
    "        \"HNPVVMVHGMGGASYNFASIKSKLV\": Sequence(sequence=\"HNPVVMVHGMGGASYNFASIKSKLV\", chain=\"A\", index=4, parent=False, child=False, active=True, native=native),\n",
    "    }\n",
    "}\n",
    "with open(\"sequences.pkl\", \"wb\") as f:\n",
    "    pickle.dump(sequences, f)"
   ]
  },
  {
   "cell_type": "code",
   "execution_count": 3,
   "metadata": {},
   "outputs": [],
   "source": [
    "seq_index = [0,1,2,3,4]\n",
    "sequence = [\"HNPVVMVHGMGGASYNFASIKSYLV\", \"HNPVVMVHGMGGASYNFASIKSYLV\", \"HNPVVMVHGMGGASYNFASIKSYLV\", \"HNPVVMVHGMGGASYNFASIKSYLV\", \"HNPVVMVHGMGGASYNFASIKSYLV\"]\n",
    "iteration = [1,2,3,4,5]\n",
    "metric1 = [-2, -6, -1, -1, -5]\n",
    "metric2 = [-1, -6, -1, -3, -5]\n",
    "rank = [1, 2, 3, 4, 5]\n",
    "df = pd.DataFrame({'seq_index': seq_index, 'Sequence': sequence, 'iteration': iteration, 'metric1': metric1, 'metric2': metric2, 'Rank': rank})\n",
    "dataframes = {\"A\": df}\n",
    "with open(\"data_frame.pkl\", \"wb\") as f:\n",
    "    pickle.dump(dataframes, f)"
   ]
  },
  {
   "cell_type": "code",
   "execution_count": 1,
   "metadata": {},
   "outputs": [],
   "source": [
    "\n",
    "SEQ1 = Sequence(\n",
    "    sequence=\"ATG\",\n",
    "    chain=\"A\",\n",
    "    index=1,\n",
    "    active=True,\n",
    "    parent=None,\n",
    "    child=None,\n",
    "    native=None,\n",
    ")\n",
    "SEQ2 = Sequence(\n",
    "    sequence=\"TGG\",\n",
    "    chain=\"A\",\n",
    "    index=2,\n",
    "    active=True,\n",
    "    parent=None,\n",
    "    child=None,\n",
    "    native=SEQ1,\n",
    ")\n",
    "SEQ3 = Sequence(\n",
    "    sequence=\"GAT\",\n",
    "    chain=\"A\",\n",
    "    index=3,\n",
    "    active=True,\n",
    "    parent=None,\n",
    "    child=None,\n",
    "    native=SEQ1,\n",
    ")\n",
    "SEQUENCES_C = {\n",
    "    \"A\": {\n",
    "        SEQ1.sequence: SEQ1,\n",
    "        SEQ2.sequence: SEQ2,\n",
    "        SEQ3.sequence: SEQ3,\n",
    "    }\n",
    "}"
   ]
  }
 ],
 "metadata": {
  "kernelspec": {
   "display_name": "Python 3",
   "language": "python",
   "name": "python3"
  },
  "language_info": {
   "codemirror_mode": {
    "name": "ipython",
    "version": 3
   },
   "file_extension": ".py",
   "mimetype": "text/x-python",
   "name": "python",
   "nbconvert_exporter": "python",
   "pygments_lexer": "ipython3",
   "version": "3.12.3"
  }
 },
 "nbformat": 4,
 "nbformat_minor": 2
}
