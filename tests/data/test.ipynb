{
 "cells": [
  {
   "cell_type": "code",
   "execution_count": 3,
   "metadata": {},
   "outputs": [],
   "source": [
    "import pandas as pd\n",
    "import numpy as np\n",
    "import pickle\n",
    "from mood.base.sequence import Sequence\n"
   ]
  },
  {
   "cell_type": "code",
   "execution_count": 5,
   "metadata": {},
   "outputs": [],
   "source": [
    "native = Sequence(sequence=\"HNPVVMVHGMGGASYNFASIKSYLV\", chain=\"A\", index=0, parent=False, child=False, active=True),\n",
    "\n",
    "sequences = {\n",
    "    \"A\":\n",
    "    {\n",
    "        \"HNPVVMVHGMGGASYNFASIKSYLV\": Sequence(sequence=\"HNPVVMVHGMGGASYNFASIKSYLV\", chain=\"A\", index=0, parent=False, child=False, active=True), \n",
    "        \"HNPVVMVHGMGGASYNFASIKSLLV\": Sequence(sequence=\"HNPVVMVHGMGGASYNFASIKSLLV\", chain=\"A\", index=1, parent=False, child=False, active=True, native=native),\n",
    "        \"HNPVVMVHGMGGASYNFASIKSSLV\": Sequence(sequence=\"HNPVVMVHGMGGASYNFASIKSSLV\", chain=\"A\", index=2, parent=False, child=False, active=True, native=native),\n",
    "        \"HNPVVMVHGMGGASYNFASIKSVLV\": Sequence(sequence=\"HNPVVMVHGMGGASYNFASIKSVLV\", chain=\"A\", index=3, parent=False, child=False, active=True, native=native),\n",
    "        \"HNPVVMVHGMGGASYNFASIKSKLV\": Sequence(sequence=\"HNPVVMVHGMGGASYNFASIKSKLV\", chain=\"A\", index=4, parent=False, child=False, active=True, native=native),\n",
    "    }\n",
    "}\n",
    "with open(\"sequences.pkl\", \"wb\") as f:\n",
    "    pickle.dump(sequences, f)"
   ]
  },
  {
   "cell_type": "code",
   "execution_count": 3,
   "metadata": {},
   "outputs": [],
   "source": [
    "seq_index = [0,1,2,3,4]\n",
    "sequence = [\"HNPVVMVHGMGGASYNFASIKSYLV\", \"HNPVVMVHGMGGASYNFASIKSYLV\", \"HNPVVMVHGMGGASYNFASIKSYLV\", \"HNPVVMVHGMGGASYNFASIKSYLV\", \"HNPVVMVHGMGGASYNFASIKSYLV\"]\n",
    "iteration = [1,2,3,4,5]\n",
    "metric1 = [-2, -6, -1, -1, -5]\n",
    "metric2 = [-1, -6, -1, -3, -5]\n",
    "rank = [1, 2, 3, 4, 5]\n",
    "df = pd.DataFrame({'seq_index': seq_index, 'Sequence': sequence, 'iteration': iteration, 'metric1': metric1, 'metric2': metric2, 'Rank': rank})\n",
    "dataframes = {\"A\": df}\n",
    "with open(\"data_frame.pkl\", \"wb\") as f:\n",
    "    pickle.dump(dataframes, f)"
   ]
  },
  {
   "cell_type": "code",
   "execution_count": 1,
   "metadata": {},
   "outputs": [],
   "source": [
    "\n",
    "SEQ1 = Sequence(\n",
    "    sequence=\"ATG\",\n",
    "    chain=\"A\",\n",
    "    index=1,\n",
    "    active=True,\n",
    "    parent=None,\n",
    "    child=None,\n",
    "    native=None,\n",
    ")\n",
    "SEQ2 = Sequence(\n",
    "    sequence=\"TGG\",\n",
    "    chain=\"A\",\n",
    "    index=2,\n",
    "    active=True,\n",
    "    parent=None,\n",
    "    child=None,\n",
    "    native=SEQ1,\n",
    ")\n",
    "SEQ3 = Sequence(\n",
    "    sequence=\"GAT\",\n",
    "    chain=\"A\",\n",
    "    index=3,\n",
    "    active=True,\n",
    "    parent=None,\n",
    "    child=None,\n",
    "    native=SEQ1,\n",
    ")\n",
    "SEQUENCES_C = {\n",
    "    \"A\": {\n",
    "        SEQ1.sequence: SEQ1,\n",
    "        SEQ2.sequence: SEQ2,\n",
    "        SEQ3.sequence: SEQ3,\n",
    "    }\n",
    "}"
   ]
  },
  {
   "cell_type": "code",
   "execution_count": 2,
   "metadata": {},
   "outputs": [
    {
     "data": {
      "text/plain": [
       "'data/7R1K/7R1K_unref.pdb,7R1K/7R1K_ref.pdb,01_population.out'"
      ]
     },
     "execution_count": 2,
     "metadata": {},
     "output_type": "execute_result"
    }
   ],
   "source": [
    "params = [\"data/7R1K/7R1K_unref.pdb\", \"7R1K/7R1K_ref.pdb\", \"01_population.out\"]\n",
    "params = \",\".join(params)\n",
    "params"
   ]
  },
  {
   "cell_type": "code",
   "execution_count": 61,
   "metadata": {},
   "outputs": [
    {
     "data": {
      "text/plain": [
       "{'SER_LIG': [('A', 76, 'OG'), ('L', 8, 'C1')],\n",
       " 'SER_HIS': [('A', 76, 'OG'), ('A', 155, 'NE2')],\n",
       " 'HIS_ASP': [('A', 155, 'ND1'), ('A', 132, 'OD1')]}"
      ]
     },
     "execution_count": 61,
     "metadata": {},
     "output_type": "execute_result"
    }
   ],
   "source": [
    "#### Get triad residue indexes\n",
    "index_offset = 0\n",
    "triad_residues = [(76+index_offset, 'A'), (155+index_offset, 'A'), (132+index_offset, 'A')]\n",
    "his_ser_atom = 'NE2'\n",
    "his_acid_atom = 'ND1'\n",
    "acid_type = 'D'\n",
    "\n",
    "# Get PDB indexes\n",
    "ser = triad_residues[0]\n",
    "his = triad_residues[1]\n",
    "acd = triad_residues[2]\n",
    "\n",
    "distances = {\n",
    "    'SER_LIG' : [(ser[1], ser[0], 'OG'), ('L', 8, 'C1')],\n",
    "    'SER_HIS' : [(ser[1], ser[0], 'OG'),(his[1], his[0], his_ser_atom)],\n",
    "    'HIS_ASP' : [(his[1], his[0], his_acid_atom),(acd[1], acd[0], 'O'+acid_type+'1')]\n",
    "}\n",
    "\n",
    "distances"
   ]
  },
  {
   "cell_type": "code",
   "execution_count": 69,
   "metadata": {},
   "outputs": [],
   "source": [
    "def distance(pose, atom1, atom2):\n",
    "    a1 = np.array(pose.residue(atom1[0]).xyz(atom1[1]))\n",
    "    a2 = np.array(pose.residue(atom2[0]).xyz(atom2[1]))\n",
    "    return np.linalg.norm(a1 - a2)"
   ]
  },
  {
   "cell_type": "code",
   "execution_count": 6,
   "metadata": {},
   "outputs": [
    {
     "name": "stdout",
     "output_type": "stream",
     "text": [
      "┌──────────────────────────────────────────────────────────────────────────────┐\n",
      "│                                 PyRosetta-4                                  │\n",
      "│              Created in JHU by Sergey Lyskov and PyRosetta Team              │\n",
      "│              (C) Copyright Rosetta Commons Member Institutions               │\n",
      "│                                                                              │\n",
      "│ NOTE: USE OF PyRosetta FOR COMMERCIAL PURPOSES REQUIRE PURCHASE OF A LICENSE │\n",
      "│         See LICENSE.PyRosetta.md or email license@uw.edu for details         │\n",
      "└──────────────────────────────────────────────────────────────────────────────┘\n",
      "PyRosetta-4 2024 [Rosetta PyRosetta4.conda.linux.cxx11thread.serialization.CentOS.python312.Release 2024.15+release.d972b59c530a12affcbe0eb4a24eedc3ce7d5060 2024-04-02T17:06:29] retrieved from: http://www.pyrosetta.org\n",
      "core.init: Checking for fconfig files in pwd and ./rosetta/flags\n",
      "core.init: Rosetta version: PyRosetta4.conda.linux.cxx11thread.serialization.CentOS.python312.Release r377 2024.15+release.d972b59 d972b59c530a12affcbe0eb4a24eedc3ce7d5060 http://www.pyrosetta.org 2024-04-02T17:06:29\n",
      "core.init: Rosetta extras: [cxx11thread, serialization]\n",
      "core.init: command: PyRosetta -relax:default_repeats 1 -constant_seed true -jran 12345 -extra_res_fa /home/lavane/Users/acanella/Repos/multiObjectiveOptimizationDesign/tests/data/Felip9/PET_params/new_ETY.params /home/lavane/Users/acanella/Repos/multiObjectiveOptimizationDesign/tests/data/Felip9/PET_params/new_TPA.params -extra_patch_fa /home/lavane/Users/acanella/Repos/multiObjectiveOptimizationDesign/tests/data/Felip9/PET_params/TPA_upper.txt /home/lavane/Users/acanella/Repos/multiObjectiveOptimizationDesign/tests/data/Felip9/PET_params/ETY_lower.txt /home/lavane/Users/acanella/Repos/multiObjectiveOptimizationDesign/tests/data/Felip9/PET_params/TPA_nonpolar_upper.txt /home/lavane/Users/acanella/Repos/multiObjectiveOptimizationDesign/tests/data/Felip9/PET_params/ETY_nonpolar_lower.txt /home/lavane/Users/acanella/Repos/multiObjectiveOptimizationDesign/tests/data/Felip9/PET_params/ETY_nonpolar_upper.txt /home/lavane/Users/acanella/Repos/multiObjectiveOptimizationDesign/tests/data/Felip9/PET_params/ETY_upper.txt /home/lavane/Users/acanella/Repos/multiObjectiveOptimizationDesign/tests/data/Felip9/PET_params/TPA_nonpolar_lower.txt /home/lavane/Users/acanella/Repos/multiObjectiveOptimizationDesign/tests/data/Felip9/PET_params/TPA_lower.txt -database /home/lavane/micromamba/envs/msd/lib/python3.12/site-packages/pyrosetta/database\n",
      "basic.random.init_random_generator: Constant seed mode, seed=12345 seed_offset=0 real_seed=12345 thread_index=0\n",
      "basic.random.init_random_generator: RandomGenerator:init: Normal mode, seed=12345 RG_type=mt19937\n"
     ]
    }
   ],
   "source": [
    "import pyrosetta as prs\n",
    "import os\n",
    "params_folder = \"/home/lavane/Users/acanella/Repos/multiObjectiveOptimizationDesign/tests/data/Felip9/PET_params\"\n",
    "if params_folder != None:\n",
    "        patches = [\n",
    "            params_folder + \"/\" + x\n",
    "            for x in os.listdir(params_folder)\n",
    "            if x.endswith(\".txt\")\n",
    "        ]\n",
    "        params = [\n",
    "            params_folder + \"/\" + x\n",
    "            for x in os.listdir(params_folder)\n",
    "            if x.endswith(\".params\")\n",
    "        ]\n",
    "        if patches == []:\n",
    "            patches = None\n",
    "        if params == []:\n",
    "            raise ValueError(\n",
    "                f\"Params files were not found in the given folder: {params_folder}!\"\n",
    "            )\n",
    "\n",
    "# from a list of path files, create a string with all the paths separated by a coma\n",
    "params = \" \".join(params)\n",
    "patches = \" \".join(patches)\n",
    "\n",
    "options = f\"-relax:default_repeats 1 -constant_seed true -jran {12345}\"\n",
    "options += f\" -extra_res_fa {params} -extra_patch_fa {patches}\"\n",
    "\n",
    "prs.pyrosetta.init(options=options)"
   ]
  },
  {
   "cell_type": "code",
   "execution_count": 7,
   "metadata": {},
   "outputs": [
    {
     "name": "stdout",
     "output_type": "stream",
     "text": [
      "core.chemical.GlobalResidueTypeSet: Finished initializing fa_standard residue type set.  Created 987 residue types\n",
      "core.chemical.GlobalResidueTypeSet: Total time to initialize 0.644822 seconds.\n",
      "core.import_pose.import_pose: File '/home/lavane/Users/acanella/Repos/multiObjectiveOptimizationDesign/tests/data/Felip9/FeLip9-PET-1.pdb' automatically determined to be of type PDB\n",
      "core.conformation.Conformation: appending residue by a chemical bond in the foldtree: 182 TPA anchor:  O1   181 root:  C1\n",
      "core.conformation.Conformation: appending residue by a chemical bond in the foldtree: 183 ETY anchor:  C8   182 root:  O3\n",
      "core.conformation.Conformation: appending residue by a chemical bond in the foldtree: 184 TPA anchor:  O1   183 root:  C1\n",
      "core.conformation.Conformation: appending residue by a chemical bond in the foldtree: 185 ETY anchor:  C8   184 root:  O3\n",
      "core.conformation.Conformation: appending residue by a chemical bond in the foldtree: 186 TPA anchor:  O1   185 root:  C1\n",
      "core.conformation.Conformation: appending residue by a chemical bond in the foldtree: 187 ETY anchor:  C8   186 root:  O3\n",
      "core.conformation.Conformation: appending residue by a chemical bond in the foldtree: 188 TPA anchor:  O1   187 root:  C1\n",
      "core.conformation.Conformation: appending residue by a chemical bond in the foldtree: 189 ETY:upper_nonpolar_ETY anchor:  C8   188 root:  O3\n"
     ]
    }
   ],
   "source": [
    "native_pose = prs.pose_from_pdb(\"/home/lavane/Users/acanella/Repos/multiObjectiveOptimizationDesign/tests/data/Felip9/FeLip9-PET-1.pdb\")"
   ]
  },
  {
   "cell_type": "code",
   "execution_count": 74,
   "metadata": {},
   "outputs": [],
   "source": [
    "distances\n"
   ]
  },
  {
   "cell_type": "code",
   "execution_count": 66,
   "metadata": {},
   "outputs": [],
   "source": [
    "# see if the distances dictionary has a list of tuples of 3 elements or 2 elements\n",
    "from icecream import ic\n",
    "d = distances.copy()\n",
    "for key, value in distances.items():\n",
    "    if len(value[0]) == 3:\n",
    "        natom1 = native_pose.pdb_info().pdb2pose(value[0][0], value[0][1])\n",
    "        natom2 = native_pose.pdb_info().pdb2pose(value[1][0], value[1][1])\n",
    "        d[key] = [(natom1, value[0][2]), (natom2, value[1][2])]"
   ]
  },
  {
   "cell_type": "code",
   "execution_count": 76,
   "metadata": {},
   "outputs": [],
   "source": [
    "import json\n",
    "with open(\"distances.json\", \"w\") as f:\n",
    "    json.dump(d, f)"
   ]
  },
  {
   "cell_type": "code",
   "execution_count": 71,
   "metadata": {},
   "outputs": [],
   "source": [
    "import numpy as np\n",
    "res_distance = d.copy()\n",
    "for key, value in d.items():\n",
    "    res_distance[key] = distance(pose=native_pose, atom1=value[0], atom2=value[1])"
   ]
  },
  {
   "cell_type": "code",
   "execution_count": 72,
   "metadata": {},
   "outputs": [
    {
     "data": {
      "text/plain": [
       "{'SER_LIG': 2.90552163991253,\n",
       " 'SER_HIS': 2.990364191866937,\n",
       " 'HIS_ASP': 3.4389129096271116}"
      ]
     },
     "execution_count": 72,
     "metadata": {},
     "output_type": "execute_result"
    }
   ],
   "source": [
    "res_distance"
   ]
  },
  {
   "cell_type": "raw",
   "metadata": {
    "vscode": {
     "languageId": "raw"
    }
   },
   "source": [
    "ligand_res = native_pose.residue(182)\n",
    "atom_names = [ligand_res.atom_name(i) for i in range(1, ligand_res.natoms() + 1)]\n",
    "atom_names"
   ]
  },
  {
   "cell_type": "code",
   "execution_count": null,
   "metadata": {},
   "outputs": [],
   "source": []
  },
  {
   "cell_type": "code",
   "execution_count": 56,
   "metadata": {},
   "outputs": [
    {
     "data": {
      "text/plain": [
       "{'LIG_H_CYS_S': [(161, 'HSG'), (35, 'SG')],\n",
       " 'LIG_O_GLN_H': [(161, 'OE1'), (69, 'HE22')]}"
      ]
     },
     "execution_count": 56,
     "metadata": {},
     "output_type": "execute_result"
    }
   ],
   "source": [
    "import pickle, os\n",
    "file_path = \"/home/lavane/Users/acanella/Repos/multiObjectiveOptimizationDesign/tests/data/7R1K/distance.pkl\"\n",
    "if os.path.getsize(file_path) > 0:  # Check if file is not empty\n",
    "    with open(file_path, \"rb\") as file:\n",
    "        dist = pickle.load(file)\n",
    "else:\n",
    "    dist = None  # Handle the case where the file is empty\n",
    "dist"
   ]
  },
  {
   "cell_type": "code",
   "execution_count": 61,
   "metadata": {},
   "outputs": [
    {
     "data": {
      "text/plain": [
       "{'1': ['P', 'E'],\n",
       " '2': ['P', 'H'],\n",
       " '3': ['N'],\n",
       " '4': ['P'],\n",
       " '5': ['I', 'V'],\n",
       " '6': ['I', 'V'],\n",
       " '7': ['L', 'F', 'M'],\n",
       " '8': ['V'],\n",
       " '9': ['H'],\n",
       " '10': ['G'],\n",
       " '11': ['F', 'W', 'I'],\n",
       " '12': ['D', 'C', 'G'],\n",
       " '13': ['N', 'G'],\n",
       " '14': ['R', 'S', 'A'],\n",
       " '17': ['N'],\n",
       " '18': ['F', 'W'],\n",
       " '19': ['W', 'F'],\n",
       " '20': ['P', 'T', 'W', 'S'],\n",
       " '21': ['L', 'M', 'W', 'I'],\n",
       " '22': ['A', 'R', 'K'],\n",
       " '23': ['R', 'P', 'S'],\n",
       " '24': ['R', 'Y'],\n",
       " '25': ['L', 'F'],\n",
       " '26': ['W', 'A'],\n",
       " '27': ['A', 'T'],\n",
       " '28': ['W', 'Q'],\n",
       " '29': ['G'],\n",
       " '30': ['W'],\n",
       " '34': ['H', 'Q'],\n",
       " '35': ['L', 'V'],\n",
       " '36': ['H', 'F', 'W', 'Y'],\n",
       " '37': ['A'],\n",
       " '38': ['F', 'W', 'I'],\n",
       " '39': ['N', 'D', 'T'],\n",
       " '40': ['L', 'F', 'Y'],\n",
       " '41': ['G', 'I'],\n",
       " '42': ['W', 'D'],\n",
       " '45': ['G'],\n",
       " '46': ['D', 'S', 'N'],\n",
       " '47': ['N'],\n",
       " '48': ['R', 'D', 'E'],\n",
       " '49': ['D', 'N'],\n",
       " '50': ['S', 'Y', 'N'],\n",
       " '51': ['A', 'G'],\n",
       " '52': ['E', 'P'],\n",
       " '53': ['Q', 'R'],\n",
       " '54': ['I', 'L'],\n",
       " '55': ['A', 'S'],\n",
       " '57': ['H', 'F', 'Y'],\n",
       " '58': ['I', 'V'],\n",
       " '59': ['D', 'E', 'K'],\n",
       " '60': ['W', 'D'],\n",
       " '61': ['V'],\n",
       " '62': ['R', 'C', 'L', 'F'],\n",
       " '63': ['A', 'D'],\n",
       " '64': ['A', 'R', 'K'],\n",
       " '65': ['T'],\n",
       " '66': ['G'],\n",
       " '67': ['A'],\n",
       " '68': ['D', 'Q', 'K'],\n",
       " '69': ['R', 'Q', 'K'],\n",
       " '70': ['V'],\n",
       " '71': ['D'],\n",
       " '72': ['I', 'L'],\n",
       " '73': ['I', 'V'],\n",
       " '74': ['A', 'G'],\n",
       " '75': ['H', 'W'],\n",
       " '77': ['Q', 'M'],\n",
       " '78': ['G'],\n",
       " '79': ['G'],\n",
       " '80': ['L', 'M', 'A'],\n",
       " '81': ['M', 'V', 'N'],\n",
       " '82': ['A', 'P', 'S', 'T'],\n",
       " '83': ['R', 'L'],\n",
       " '84': ['W', 'Y'],\n",
       " '85': ['W', 'Y'],\n",
       " '86': ['I', 'L', 'M'],\n",
       " '87': ['R', 'K'],\n",
       " '88': ['F', 'N'],\n",
       " '89': ['L'],\n",
       " '90': ['G', 'D'],\n",
       " '91': ['G'],\n",
       " '92': ['A', 'G'],\n",
       " '93': ['A', 'D'],\n",
       " '94': ['R', 'K'],\n",
       " '95': ['V', 'I'],\n",
       " '96': ['R', 'D', 'H', 'E'],\n",
       " '97': ['R', 'H', 'N'],\n",
       " '98': ['L', 'F', 'W', 'Y', 'V'],\n",
       " '99': ['I', 'V'],\n",
       " '100': ['T'],\n",
       " '101': ['I', 'L', 'M'],\n",
       " '102': ['A', 'G'],\n",
       " '103': ['G', 'P', 'T'],\n",
       " '104': ['P', 'A'],\n",
       " '105': ['N', 'W'],\n",
       " '106': ['H', 'W', 'G'],\n",
       " '107': ['G', 'L'],\n",
       " '108': ['T', 'V'],\n",
       " '109': ['T', 'S'],\n",
       " '112': ['W', 'A'],\n",
       " '113': ['W', 'L'],\n",
       " '114': ['G', 'P'],\n",
       " '117': ['D'],\n",
       " '118': ['P'],\n",
       " '119': ['N'],\n",
       " '120': ['C', 'Q'],\n",
       " '121': ['R', 'K'],\n",
       " '122': ['I', 'V'],\n",
       " '123': ['R', 'L'],\n",
       " '124': ['W', 'Y'],\n",
       " '125': ['T'],\n",
       " '126': ['W', 'S'],\n",
       " '127': ['I', 'W', 'V'],\n",
       " '128': ['G', 'W', 'Y'],\n",
       " '129': ['W', 'S'],\n",
       " '130': ['W', 'S'],\n",
       " '131': ['C', 'H', 'W', 'Y', 'A'],\n",
       " '133': ['E', 'L'],\n",
       " '134': ['I', 'M', 'V'],\n",
       " '135': ['I', 'M', 'V'],\n",
       " '136': ['T', 'V'],\n",
       " '137': ['P', 'N'],\n",
       " '138': ['N', 'S', 'T'],\n",
       " '139': ['A', 'S', 'L'],\n",
       " '140': ['F', 'S'],\n",
       " '142': ['L', 'W'],\n",
       " '143': ['D', 'P', 'I'],\n",
       " '144': ['G'],\n",
       " '145': ['A', 'V'],\n",
       " '146': ['R', 'T'],\n",
       " '147': ['N'],\n",
       " '148': ['I', 'V'],\n",
       " '150': ['I', 'L', 'V'],\n",
       " '151': ['Q', 'H'],\n",
       " '152': ['C', 'G'],\n",
       " '153': ['V'],\n",
       " '154': ['G'],\n",
       " '156': ['W', 'I'],\n",
       " '157': ['G', 'W'],\n",
       " '158': ['I', 'L', 'M'],\n",
       " '159': ['W', 'L'],\n",
       " '161': ['D', 'S'],\n",
       " '162': ['P', 'S'],\n",
       " '163': ['R', 'Q'],\n",
       " '164': ['V'],\n",
       " '165': ['F', 'Y', 'K'],\n",
       " '166': ['W', 'G'],\n",
       " '168': ['I', 'V'],\n",
       " '169': ['W', 'K'],\n",
       " '170': ['N', 'E'],\n",
       " '171': ['W', 'G'],\n",
       " '172': ['C', 'L'],\n",
       " '173': ['W', 'N'],\n",
       " '175': ['W', 'G'],\n",
       " '179': ['W', 'T'],\n",
       " '180': ['W', 'N']}"
      ]
     },
     "execution_count": 61,
     "metadata": {},
     "output_type": "execute_result"
    }
   ],
   "source": [
    "import json\n",
    "with open(\"/home/lavane/Users/acanella/Repos/multiObjectiveOptimizationDesign/tests/data/Felip9/design_library_glide.json\", \"r\") as f:\n",
    "    data = json.load(f)\n",
    "\n",
    "data"
   ]
  },
  {
   "cell_type": "code",
   "execution_count": 66,
   "metadata": {},
   "outputs": [],
   "source": [
    "import random\n",
    "n=2\n",
    "s_resu = {}\n",
    "for s in range(10):\n",
    "    #creates a list starting from 0 to n\n",
    "    r = random.choice(list(range(n+1)))\n",
    "    s_resu[s] = {}\n",
    "    if r != 0:\n",
    "        for i in range(r):\n",
    "            rk = random.choice(list(data.keys()))\n",
    "            rv = random.choice(data[rk])\n",
    "            s_resu[s][rk] = rv\n",
    "s_resu"
   ]
  },
  {
   "cell_type": "code",
   "execution_count": 10,
   "metadata": {},
   "outputs": [],
   "source": [
    "import pyrosetta as prs\n",
    "def local_relax(\n",
    "        pose,\n",
    "        residues=None,\n",
    "        moving_chain=None,\n",
    "        neighbour_distance=10,\n",
    "        minimization_steps=100,\n",
    "        min_energy_threshold=2,\n",
    "    ):\n",
    "        residues = residues or []\n",
    "        min_pose = pose.clone()\n",
    "\n",
    "        sfxn = prs.rosetta.core.scoring.ScoreFunctionFactory.create_score_function(\"ref2015\")\n",
    "        \n",
    "        fastrelax_mover = prs.rosetta.protocols.relax.FastRelax()\n",
    "        fastrelax_mover.set_scorefxn(sfxn)\n",
    "\n",
    "        if moving_chain is not None:\n",
    "            chain_indexes = []\n",
    "            for r in range(1, pose.total_residue() + 1):\n",
    "                _, chain = pose.pdb_info().pose2pdb(r).split()\n",
    "                if chain == moving_chain:\n",
    "                    chain_indexes.append(r)\n",
    "        else:\n",
    "            chain_indexes = []\n",
    "\n",
    "        # indexes seria mutations\n",
    "        ct_chain_selector = prs.rosetta.core.select.residue_selector.ResidueIndexSelector()\n",
    "        indexes = chain_indexes + residues\n",
    "        ct_chain_selector.set_index(\",\".join([str(x) for x in indexes]))\n",
    "\n",
    "        nbr_selector = (\n",
    "            prs.rosetta.core.select.residue_selector.NeighborhoodResidueSelector()\n",
    "        )\n",
    "\n",
    "        # Residue of the mutation\n",
    "        nbr_selector.set_focus_selector(ct_chain_selector)\n",
    "        nbr_selector.set_include_focus_in_subset(\n",
    "            True\n",
    "        )  # This includes the peptide residues in the selection\n",
    "        nbr_selector.set_distance(neighbour_distance)\n",
    "\n",
    "        enable_mm = prs.rosetta.core.select.movemap.move_map_action(1)\n",
    "\n",
    "        mmf_relax = prs.rosetta.core.select.movemap.MoveMapFactory()\n",
    "        mmf_relax.all_bb(False)\n",
    "        mmf_relax.add_bb_action(enable_mm, nbr_selector)\n",
    "\n",
    "        ## Deactivate side-chain except for the selected chain during relax + neighbours\n",
    "        mmf_relax.all_chi(False)\n",
    "        mmf_relax.add_chi_action(enable_mm, nbr_selector)\n",
    "\n",
    "        # Define RLT to prevent repacking of residues (fix side chains)\n",
    "        prevent_repacking_rlt = prs.rosetta.core.pack.task.operation.PreventRepackingRLT()\n",
    "        # Define RLT to only repack residues (movable side chains but fixed sequence)\n",
    "        restrict_repacking_rlt = (\n",
    "            prs.rosetta.core.pack.task.operation.RestrictToRepackingRLT()\n",
    "        )\n",
    "\n",
    "        # Prevent repacking of everything but CT, peptide and their neighbours\n",
    "        prevent_subset_repacking = (\n",
    "            prs.rosetta.core.pack.task.operation.OperateOnResidueSubset(\n",
    "                prevent_repacking_rlt, nbr_selector, True\n",
    "            )\n",
    "        )\n",
    "        # Allow repacking of peptide and neighbours\n",
    "        restrict_subset_to_repacking_for_sampling = (\n",
    "            prs.rosetta.core.pack.task.operation.OperateOnResidueSubset(\n",
    "                restrict_repacking_rlt, nbr_selector\n",
    "            )\n",
    "        )\n",
    "\n",
    "        tf_sampling = prs.rosetta.core.pack.task.TaskFactory()\n",
    "        tf_sampling.push_back(prevent_subset_repacking)\n",
    "        tf_sampling.push_back(restrict_subset_to_repacking_for_sampling)\n",
    "\n",
    "        fastrelax_mover.set_movemap_factory(mmf_relax)\n",
    "        fastrelax_mover.set_task_factory(tf_sampling)\n",
    "\n",
    "        print(\"Running minimisation\")\n",
    "        initial_energy = sfxn(min_pose)\n",
    "        print(f\"\\tInitial energy: {initial_energy:.2f}\")\n",
    "        for step in range(1, minimization_steps + 1):\n",
    "            print(f\"Running minimization step {step} of {minimization_steps}\")\n",
    "            fastrelax_mover.apply(min_pose)\n",
    "            final_energy = sfxn(min_pose)\n",
    "            d_energy = final_energy - initial_energy\n",
    "            print(f\"Finished minimization cycle {step} of {minimization_steps}\")\n",
    "            print(f\"Energy change (dE):{d_energy:.2f}\")\n",
    "            print(f\"\\tCurrent energy: {final_energy:.2f}\")\n",
    "            if abs(d_energy) < abs(min_energy_threshold):\n",
    "                print(\"Energy convergence achieved.\")\n",
    "                break\n",
    "            initial_energy = final_energy\n",
    "\n",
    "        if step == minimization_steps - 1:\n",
    "            print(f\"Maximum number of relax iterations ({minimization_steps}) reached.\")\n",
    "            print(\"Energy convergence failed!\")\n",
    "\n",
    "        print(\"Finished minimisation:\")\n",
    "\n",
    "        return min_pose"
   ]
  },
  {
   "cell_type": "code",
   "execution_count": 12,
   "metadata": {},
   "outputs": [
    {
     "name": "stdout",
     "output_type": "stream",
     "text": [
      "core.scoring.ScoreFunctionFactory: SCOREFUNCTION: ref2015\n",
      "Running minimisation\n",
      "\tInitial energy: -611.48\n",
      "Running minimization step 1 of 100\n",
      "protocols.relax.FastRelax: CMD: repeat  -611.48  0  0  0.55\n",
      "protocols.relax.FastRelax: CMD: coord_cst_weight  -611.48  0  0  0.55\n",
      "protocols.relax.FastRelax: CMD: scale:fa_rep  -716.172  0  0  0.022\n",
      "core.pack.pack_rotamers: built 320 rotamers at 28 positions.\n",
      "core.pack.pack_rotamers: Requesting all available threads for interaction graph computation.\n",
      "core.pack.interaction_graph.interaction_graph_factory: Instantiating DensePDInteractionGraph\n",
      "core.pack.rotamer_set.RotamerSets: Completed interaction graph pre-calculation in 1 available threads (1 had been requested).\n",
      "protocols.relax.FastRelax: CMD: repack  -717.039  0  0  0.022\n",
      "protocols.relax.FastRelax: CMD: scale:fa_rep  -715.785  0  0  0.02805\n",
      "protocols.relax.FastRelax: CMD: min  -754.288  0.392868  0.392868  0.02805\n",
      "protocols.relax.FastRelax: CMD: coord_cst_weight  -754.288  0.392868  0.392868  0.02805\n",
      "protocols.relax.FastRelax: CMD: scale:fa_rep  -660.975  0.392868  0.392868  0.14575\n",
      "core.pack.pack_rotamers: built 245 rotamers at 29 positions.\n",
      "core.pack.pack_rotamers: Requesting all available threads for interaction graph computation.\n",
      "core.pack.interaction_graph.interaction_graph_factory: Instantiating DensePDInteractionGraph\n",
      "core.pack.rotamer_set.RotamerSets: Completed interaction graph pre-calculation in 1 available threads (1 had been requested).\n",
      "protocols.relax.FastRelax: CMD: repack  -661.049  0.392868  0.392868  0.14575\n",
      "protocols.relax.FastRelax: CMD: scale:fa_rep  -654.511  0.392868  0.392868  0.154\n",
      "protocols.relax.FastRelax: CMD: min  -702.627  0.16269  0.16269  0.154\n",
      "protocols.relax.FastRelax: CMD: coord_cst_weight  -702.627  0.16269  0.16269  0.154\n",
      "protocols.relax.FastRelax: CMD: scale:fa_rep  -656.397  0.16269  0.16269  0.30745\n",
      "core.pack.pack_rotamers: built 233 rotamers at 29 positions.\n",
      "core.pack.pack_rotamers: Requesting all available threads for interaction graph computation.\n",
      "core.pack.interaction_graph.interaction_graph_factory: Instantiating DensePDInteractionGraph\n",
      "core.pack.rotamer_set.RotamerSets: Completed interaction graph pre-calculation in 1 available threads (1 had been requested).\n",
      "protocols.relax.FastRelax: CMD: repack  -656.399  0.16269  0.16269  0.30745\n",
      "protocols.relax.FastRelax: CMD: scale:fa_rep  -652.753  0.16269  0.16269  0.31955\n",
      "protocols.relax.FastRelax: CMD: min  -659.492  0.0712949  0.0712949  0.31955\n",
      "protocols.relax.FastRelax: CMD: coord_cst_weight  -659.492  0.0712949  0.0712949  0.31955\n",
      "protocols.relax.FastRelax: CMD: scale:fa_rep  -605.131  0.0712949  0.0712949  0.55\n",
      "core.pack.pack_rotamers: built 224 rotamers at 29 positions.\n",
      "core.pack.pack_rotamers: Requesting all available threads for interaction graph computation.\n",
      "core.pack.interaction_graph.interaction_graph_factory: Instantiating DensePDInteractionGraph\n",
      "core.pack.rotamer_set.RotamerSets: Completed interaction graph pre-calculation in 1 available threads (1 had been requested).\n",
      "protocols.relax.FastRelax: CMD: repack  -605.131  0.0712949  0.0712949  0.55\n",
      "protocols.relax.FastRelax: CMD: min  -611.346  0.00595338  0.00595338  0.55\n",
      "protocols.relax.FastRelax: MRP: 0  -611.346  -611.346  0.00595338  0.00595338\n",
      "protocols.relax.FastRelax: CMD: accept_to_best  -611.346  0.00595338  0.00595338  0.55\n",
      "protocols.relax.FastRelax: CMD: endrepeat  -611.346  0.00595338  0.00595338  0.55\n",
      "protocols::checkpoint: Deleting checkpoints of FastRelax\n",
      "Finished minimization cycle 1 of 100\n",
      "Energy change (dE):0.13\n",
      "\tCurrent energy: -611.35\n",
      "Energy convergence achieved.\n",
      "Finished minimisation:\n"
     ]
    },
    {
     "data": {
      "text/plain": [
       "<pyrosetta.rosetta.core.pose.Pose at 0x778da02decb0>"
      ]
     },
     "execution_count": 12,
     "metadata": {},
     "output_type": "execute_result"
    }
   ],
   "source": [
    "\n",
    "local_relax(pose=native_pose, sfxn=sfxn, residues=[1,2,3])\n",
    "\n"
   ]
  },
  {
   "cell_type": "code",
   "execution_count": null,
   "metadata": {},
   "outputs": [],
   "source": []
  }
 ],
 "metadata": {
  "kernelspec": {
   "display_name": "Python 3",
   "language": "python",
   "name": "python3"
  },
  "language_info": {
   "codemirror_mode": {
    "name": "ipython",
    "version": 3
   },
   "file_extension": ".py",
   "mimetype": "text/x-python",
   "name": "python",
   "nbconvert_exporter": "python",
   "pygments_lexer": "ipython3",
   "version": "3.12.3"
  }
 },
 "nbformat": 4,
 "nbformat_minor": 2
}
